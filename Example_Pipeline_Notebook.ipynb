{
 "cells": [
  {
   "cell_type": "markdown",
   "metadata": {},
   "source": [
    "# Example geoSleuth Pipeline\n",
    "\n",
    "This notebook is intended to walk through preprocessing, calculating, and analyzing a feature from inside the geoSleuth library. Before running, please make sure all data linked [here](https://www.dropbox.com/s/g7ax637zwsm0b3t/data.zip?dl=0) is in directory at the same level as this notebook. The data file is downloaded as a .zip and contains all data from Analyze Boston used for this project, along with the precomputed joined regions produced by `joinaroo.py`. This join is not rerun in this notebook, but all of the data is available so that `joinaroo.py` could be ran to rejoin the crime and region datasets. This notebook should be running in the same directory as the modules of geoSleuth. Please make sure all requirements listed in requirements.txt are installed and working correctly. Firstly, we'll need to import everything to be used throughout the process:"
   ]
  },
  {
   "cell_type": "code",
   "execution_count": 1,
   "metadata": {},
   "outputs": [],
   "source": [
    "from calculations.base import DistCalc\n",
    "from preprocessors.base import BaseProcessor\n",
    "from analysis.base import BaseAnalyzer\n",
    "import pandas as pd\n",
    "import geopandas as gpd\n",
    "import numpy as np"
   ]
  },
  {
   "cell_type": "markdown",
   "metadata": {},
   "source": [
    "We'll first walk through calculating a distance feature. To do so, we'll define a function to be used to calculate distance feature values:"
   ]
  },
  {
   "cell_type": "code",
   "execution_count": 2,
   "metadata": {},
   "outputs": [],
   "source": [
    "def inverse_square_sum(distances):\n",
    "    result = 0\n",
    "    for distance in distances:\n",
    "        result += 1 / (distance ** 2)\n",
    "    if result > 40:\n",
    "        result = 40\n",
    "    return result"
   ]
  },
  {
   "cell_type": "markdown",
   "metadata": {},
   "source": [
    "We're ready to start the steps in the pipeline. First things first, we need to read in the shapefile of the feature. This is done using the `BaseProcessor` class, initialized with a class instance and passing in the filepath to the .shp:"
   ]
  },
  {
   "cell_type": "code",
   "execution_count": 3,
   "metadata": {},
   "outputs": [],
   "source": [
    "filepath = \"data/Boston_Police_Stations/Boston_Police_Stations.shp\"\n",
    "feature_df = BaseProcessor(filepath).data"
   ]
  },
  {
   "cell_type": "markdown",
   "metadata": {},
   "source": [
    "Now we want to read in the precomputed subregions csv. We'll ask for a subset of the columns to see what a row of this Dataframe contains."
   ]
  },
  {
   "cell_type": "code",
   "execution_count": 4,
   "metadata": {},
   "outputs": [
    {
     "name": "stdout",
     "output_type": "stream",
     "text": [
      "   bin_id  area_proportion               OFFENSE_CODE_GROUP  \\\n",
      "0       3         0.016062             Residential Burglary   \n",
      "1       3         0.016062             Investigate Property   \n",
      "2       3         0.016062                          Larceny   \n",
      "3       3         0.016062  Motor Vehicle Accident Response   \n",
      "4       3         0.016062                  Verbal Disputes   \n",
      "\n",
      "                        crime_point  \n",
      "0  POINT (-71.13862962 42.23346994)  \n",
      "1  POINT (-71.13882916 42.23405146)  \n",
      "2  POINT (-71.13882916 42.23405146)  \n",
      "3  POINT (-71.13882916 42.23405146)  \n",
      "4  POINT (-71.13882916 42.23405146)  \n"
     ]
    }
   ],
   "source": [
    "binned_crimes = pd.read_csv(\"data/crimes_in_bins.csv\")\n",
    "print(binned_crimes[[\"bin_id\", \"area_proportion\", \"OFFENSE_CODE_GROUP\", \"crime_point\"]].head())"
   ]
  },
  {
   "cell_type": "markdown",
   "metadata": {},
   "source": [
    "We see that this dataframe contains the bin_id, offense code group, and location of the crime in a row. We also see that not all crime points are unique, several occurred roughly in the same place. This is due to the fact that the level of granularity of reporting the location of the crime isn't extraordinarily larger the bins themselves."
   ]
  },
  {
   "cell_type": "markdown",
   "metadata": {},
   "source": [
    "## Feature Value Computation\n",
    "We now have all the dataframes we need to run the distance feature calculation. `DistCalc` mandates a feature dataframe and the joined distribution and regions dataframe, but also takes in the optional argument of \"feature_name\" for labeling purposes if desired; this is useful for the .write_results() method for having a place to save results to."
   ]
  },
  {
   "cell_type": "code",
   "execution_count": 5,
   "metadata": {},
   "outputs": [
    {
     "name": "stdout",
     "output_type": "stream",
     "text": [
      "HERE\n",
      "Result dict keys, should contain both passed in subgroups:\n",
      "['Violent Crime', 'Theft Crime']\n"
     ]
    }
   ],
   "source": [
    "calculator = DistCalc(feature_df, binned_crimes, feature_name=\"Police_min\")\n",
    "subgroups = [\"Violent Crime\", \"Theft Crime\"] # we'll use only these two subgroups for demonstration\n",
    "results = calculator.calculation(subgroups, feature_function=min, group=True, to_file=False)\n",
    "print(\"Result dict keys, should contain both passed in subgroups:\")\n",
    "print(str(list(results.keys())))"
   ]
  },
  {
   "cell_type": "markdown",
   "metadata": {},
   "source": [
    "Let's check the actual results."
   ]
  },
  {
   "cell_type": "code",
   "execution_count": 6,
   "metadata": {},
   "outputs": [
    {
     "name": "stdout",
     "output_type": "stream",
     "text": [
      "   bin_id   feature  num_crimes  area_proportion  norm_crimes\n",
      "0       3  1.719243           6         0.016062     0.096374\n",
      "1       5  1.698519           1         0.089519     0.089519\n",
      "2       6  1.646987          11         0.094711     1.041820\n",
      "3       7  1.610385           2         0.090871     0.181741\n",
      "4      12  1.483791           1         0.065567     0.065567\n"
     ]
    }
   ],
   "source": [
    "print(results[\"Violent Crime\"].head())"
   ]
  },
  {
   "cell_type": "markdown",
   "metadata": {},
   "source": [
    "Hopefully we see a float value for feature, a crime count, the area proportion of the bin to its original census tract, and then the product of that proportion with the number of crimes for a single row. The calculator is working as expected if this is the case.\n",
    "\n",
    "Let's run the calculator again, but with group=False."
   ]
  },
  {
   "cell_type": "code",
   "execution_count": 7,
   "metadata": {},
   "outputs": [
    {
     "name": "stdout",
     "output_type": "stream",
     "text": [
      "    Unnamed: 0  bin_id  OBJECTID  area_proportion  \\\n",
      "9            3       3        21         0.016062   \n",
      "21           3       3        21         0.016062   \n",
      "25           3       3        21         0.016062   \n",
      "28           3       3        21         0.016062   \n",
      "36           3       3        21         0.016062   \n",
      "\n",
      "                                             geometry  index_right  \\\n",
      "9   POLYGON ((-71.137478873173 42.23247514194577, ...        96633   \n",
      "21  POLYGON ((-71.137478873173 42.23247514194577, ...       310972   \n",
      "25  POLYGON ((-71.137478873173 42.23247514194577, ...       269709   \n",
      "28  POLYGON ((-71.137478873173 42.23247514194577, ...       322668   \n",
      "36  POLYGON ((-71.137478873173 42.23247514194577, ...       409892   \n",
      "\n",
      "   INCIDENT_NUMBER  OFFENSE_CODE OFFENSE_CODE_GROUP DISTRICT SHOOTING  \\\n",
      "9       I182080619           802     Simple Assault      E18      NaN   \n",
      "21      I162067177           802     Simple Assault      E18      NaN   \n",
      "25      I172005018           802     Simple Assault      E18      NaN   \n",
      "28      I162054592          2629         Harassment      E18      NaN   \n",
      "36      I152067976           804     Simple Assault      E18      NaN   \n",
      "\n",
      "       OCCURRED_ON_DATE                       crime_point  \\\n",
      "9   2018-10-05 16:45:00  POINT (-71.13882916 42.23405146)   \n",
      "21  2016-08-19 13:54:00  POINT (-71.13882916 42.23405146)   \n",
      "25  2017-01-19 15:02:00  POINT (-71.13882916 42.23405146)   \n",
      "28  2016-07-09 14:56:00  POINT (-71.13882916 42.23405146)   \n",
      "36  2015-08-17 07:00:00  POINT (-71.13791008 42.23490232)   \n",
      "\n",
      "                                       centroid   feature  \n",
      "9   POINT (-71.1380950673249 42.23378194501102)  1.719243  \n",
      "21  POINT (-71.1380950673249 42.23378194501102)  1.719243  \n",
      "25  POINT (-71.1380950673249 42.23378194501102)  1.719243  \n",
      "28  POINT (-71.1380950673249 42.23378194501102)  1.719243  \n",
      "36  POINT (-71.1380950673249 42.23378194501102)  1.719243  \n"
     ]
    }
   ],
   "source": [
    "results = calculator.calculation(subgroups, feature_function=min, group=False, to_file=False)\n",
    "print(results[\"Violent Crime\"].head())"
   ]
  },
  {
   "cell_type": "markdown",
   "metadata": {},
   "source": [
    "In this case, without `group=True`, we merely append the feature value onto the row of the joinned crime and region dataframe. Not necessary for analysis, but might be interesting if curious about other information besides the count of crime."
   ]
  },
  {
   "cell_type": "markdown",
   "metadata": {},
   "source": [
    "## Analysis\n",
    "Now it's time to analyze the results of our computation. Let's rerun the computation with grouping, and then initialize the analyzer object."
   ]
  },
  {
   "cell_type": "code",
   "execution_count": 8,
   "metadata": {},
   "outputs": [
    {
     "name": "stdout",
     "output_type": "stream",
     "text": [
      "HERE\n"
     ]
    }
   ],
   "source": [
    "results = calculator.calculation(subgroups, feature_function=min, group=True, to_file=False)\n",
    "analyzer = BaseAnalyzer(\n",
    "results[\"Violent Crime\"], \"Sum of Region's 1/(r^2) Dist to Pol. Stations\"\n",
    ")"
   ]
  },
  {
   "cell_type": "markdown",
   "metadata": {},
   "source": [
    "With the analyzer object initialized, we can now run some initial plotting. Let's just get a look at the data as a scatter plot first."
   ]
  },
  {
   "cell_type": "code",
   "execution_count": 9,
   "metadata": {},
   "outputs": [
    {
     "data": {
      "image/png": "[encoded data removed]",
      "text/plain": [
       "<Figure size 432x288 with 1 Axes>"
      ]
     },
     "metadata": {
      "needs_background": "light"
     },
     "output_type": "display_data"
    }
   ],
   "source": [
    "plt = analyzer.plot_raw(\"scatter\", x_var=\"feature\", y_var=\"norm_crimes\")\n",
    "plt.show()"
   ]
  },
  {
   "cell_type": "markdown",
   "metadata": {},
   "source": [
    "The `.plot_raw()` method will plot a variety of types of plots for the computed data as an initial visualization. Its docstring can be viewed inside the analysis directory. Let's try another plot, the \"agg\" plot."
   ]
  },
  {
   "cell_type": "code",
   "execution_count": 12,
   "metadata": {},
   "outputs": [
    {
     "data": {
      "image/png": "[encoded data removed]",
      "text/plain": [
       "<Figure size 432x288 with 1 Axes>"
      ]
     },
     "metadata": {
      "needs_background": "light"
     },
     "output_type": "display_data"
    }
   ],
   "source": [
    "plt, ax = analyzer.plot_raw(\n",
    "    \"agg\",\n",
    "    bins=list(np.linspace(0,2, 9)),\n",
    "    y_var=\"norm_crimes\",\n",
    "    ylabel=\"Sum of Crimes in Regions\",\n",
    ")\n",
    "plt.show()"
   ]
  },
  {
   "cell_type": "markdown",
   "metadata": {},
   "source": [
    "The `agg` plot is essentially a bar plot based on splitting the regions into ranges of feature values and then summing their crime counts. The result is seen above. We can now try to fit a model to the data."
   ]
  },
  {
   "cell_type": "code",
   "execution_count": 13,
   "metadata": {},
   "outputs": [
    {
     "name": "stdout",
     "output_type": "stream",
     "text": [
      "Quadratic Regression R^2 Score: 0.04813090229252126\n"
     ]
    },
    {
     "data": {
      "image/png": "[encoded data removed]",
      "text/plain": [
       "<Figure size 432x288 with 1 Axes>"
      ]
     },
     "metadata": {
      "needs_background": "light"
     },
     "output_type": "display_data"
    },
    {
     "data": {
      "text/plain": [
       "0.04813090229252126"
      ]
     },
     "execution_count": 13,
     "metadata": {},
     "output_type": "execute_result"
    }
   ],
   "source": [
    "analyzer.quadratic_model(plot=True)"
   ]
  },
  {
   "cell_type": "markdown",
   "metadata": {},
   "source": [
    "Many points along the pipeline have been demonstrated, but all are documented inside the library."
   ]
  }
 ],
 "metadata": {
  "kernelspec": {
   "display_name": "Python 3",
   "language": "python",
   "name": "python3"
  },
  "language_info": {
   "codemirror_mode": {
    "name": "ipython",
    "version": 3
   },
   "file_extension": ".py",
   "mimetype": "text/x-python",
   "name": "python",
   "nbconvert_exporter": "python",
   "pygments_lexer": "ipython3",
   "version": "3.7.4"
  }
 },
 "nbformat": 4,
 "nbformat_minor": 2
}
